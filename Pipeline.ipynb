{
 "cells": [
  {
   "cell_type": "code",
   "execution_count": 1058,
   "metadata": {},
   "outputs": [],
   "source": [
    "import numpy as np\n",
    "import pandas as pd\n",
    "from sklearn.impute import SimpleImputer\n",
    "from sklearn.preprocessing import StandardScaler, OneHotEncoder\n",
    "from scipy.stats import wasserstein_distance, entropy\n",
    "from sklearn.compose import ColumnTransformer\n",
    "from sklearn.pipeline import Pipeline\n",
    "from sklearn.model_selection import train_test_split\n",
    "from sklearn.linear_model import LogisticRegression\n",
    "from sklearn.metrics import accuracy_score\n",
    "from DatasetExt import *\n",
    "import matplotlib.pyplot as plt\n",
    "#np.random.seed(42)\n"
   ]
  },
  {
   "cell_type": "markdown",
   "metadata": {},
   "source": [
    "## Dataset Load"
   ]
  },
  {
   "cell_type": "code",
   "execution_count": 1093,
   "metadata": {},
   "outputs": [],
   "source": [
    "url = \"https://archive.ics.uci.edu/ml/machine-learning-databases/adult/adult.data\"\n",
    "columns = [\"age\", \"workclass\", \"fnlwgt\", \"education\", \"education-num\", \"marital-status\", \"occupation\", \"relationship\", \"race\", \"sex\", \"capital-gain\", \"capital-loss\", \"hours-per-week\", \"native-country\", \"income\"]\n",
    "df = pd.read_csv(url, names=columns, na_values=\" ?\")\n",
    "\n",
    "df.drop(columns=[\"fnlwgt\", \"education\", \"relationship\", \"native-country\"], inplace=True)\n",
    "numerical_features = [\"age\", \"education-num\", \"capital-gain\", \"capital-loss\", \"hours-per-week\"]\n",
    "categorical_features = [\"workclass\", \"marital-status\", \"occupation\", \"race\", \"sex\"]\n",
    "target_variable='income'"
   ]
  },
  {
   "cell_type": "code",
   "execution_count": 1060,
   "metadata": {},
   "outputs": [
    {
     "data": {
      "text/plain": [
       "'url_german = \"https://archive.ics.uci.edu/ml/machine-learning-databases/statlog/german/german.data\"\\ncolumns_german = [\\n    \"Status\", \"Duration\", \"CreditHistory\", \"Purpose\", \"CreditAmount\",\\n    \"Savings\", \"Employment\", \"InstallmentRate\", \"PersonalStatusSex\",\\n    \"Debtors\", \"ResidenceSince\", \"Property\", \"Age\", \"OtherInstallmentPlans\",\\n    \"Housing\", \"NumberCredits\", \"Job\", \"PeopleLiable\", \"Telephone\", \"ForeignWorker\", \"CreditRisk\"\\n]\\ndf = pd.read_csv(url_german, delim_whitespace=True, names=columns_german)\\n\\ndf.drop(columns=[\"Telephone\", \"ForeignWorker\"], inplace=True)\\nnumerical_features = [\"Duration\", \"CreditAmount\", \"InstallmentRate\", \"ResidenceSince\", \"Age\", \"NumberCredits\", \"PeopleLiable\"]\\ncategorical_features = list(set(df.columns) - set(numerical_features) - {\"CreditRisk\"})\\ntarget_variable = \\'CreditRisk\\' '"
      ]
     },
     "execution_count": 1060,
     "metadata": {},
     "output_type": "execute_result"
    }
   ],
   "source": [
    "'''url_german = \"https://archive.ics.uci.edu/ml/machine-learning-databases/statlog/german/german.data\"\n",
    "columns_german = [\n",
    "    \"Status\", \"Duration\", \"CreditHistory\", \"Purpose\", \"CreditAmount\",\n",
    "    \"Savings\", \"Employment\", \"InstallmentRate\", \"PersonalStatusSex\",\n",
    "    \"Debtors\", \"ResidenceSince\", \"Property\", \"Age\", \"OtherInstallmentPlans\",\n",
    "    \"Housing\", \"NumberCredits\", \"Job\", \"PeopleLiable\", \"Telephone\", \"ForeignWorker\", \"CreditRisk\"\n",
    "]\n",
    "df = pd.read_csv(url_german, delim_whitespace=True, names=columns_german)\n",
    "\n",
    "df.drop(columns=[\"Telephone\", \"ForeignWorker\"], inplace=True)\n",
    "numerical_features = [\"Duration\", \"CreditAmount\", \"InstallmentRate\", \"ResidenceSince\", \"Age\", \"NumberCredits\", \"PeopleLiable\"]\n",
    "categorical_features = list(set(df.columns) - set(numerical_features) - {\"CreditRisk\"})\n",
    "target_variable = 'CreditRisk' '''"
   ]
  },
  {
   "cell_type": "markdown",
   "metadata": {},
   "source": [
    "## Missing Value Injection"
   ]
  },
  {
   "cell_type": "code",
   "execution_count": 1061,
   "metadata": {},
   "outputs": [
    {
     "name": "stdout",
     "output_type": "stream",
     "text": [
      "Missing values per column:\n",
      "age                325\n",
      "workclass         1836\n",
      "education-num      325\n",
      "marital-status       0\n",
      "occupation        1843\n",
      "race                 0\n",
      "sex                  0\n",
      "capital-gain       325\n",
      "capital-loss       325\n",
      "hours-per-week     325\n",
      "income               0\n",
      "dtype: int64\n"
     ]
    }
   ],
   "source": [
    "for col in numerical_features:\n",
    "    missing_indices = np.random.choice(df.index, int(len(df) * 0.01), replace=False)\n",
    "    df.loc[missing_indices, col] = np.nan\n",
    "\n",
    "missing_values = df.isnull().sum()\n",
    "print(\"Missing values per column:\")\n",
    "print(missing_values)"
   ]
  },
  {
   "cell_type": "markdown",
   "metadata": {},
   "source": [
    "## Outlier Injection"
   ]
  },
  {
   "cell_type": "code",
   "execution_count": 1062,
   "metadata": {},
   "outputs": [
    {
     "data": {
      "text/plain": [
       "\"fig, axes = plt.subplots(1, len(numerical_features), figsize=(20, 5))\\n\\nfor i, col in enumerate(numerical_features):\\n    df.boxplot(column=col, ax=axes[i])\\n    axes[i].set_title(f'{col}')\\n\\nplt.tight_layout()\\nplt.show()\""
      ]
     },
     "execution_count": 1062,
     "metadata": {},
     "output_type": "execute_result"
    }
   ],
   "source": [
    "'''fig, axes = plt.subplots(1, len(numerical_features), figsize=(20, 5))\n",
    "\n",
    "for i, col in enumerate(numerical_features):\n",
    "    df.boxplot(column=col, ax=axes[i])\n",
    "    axes[i].set_title(f'{col}')\n",
    "\n",
    "plt.tight_layout()\n",
    "plt.show()'''"
   ]
  },
  {
   "cell_type": "code",
   "execution_count": 1063,
   "metadata": {},
   "outputs": [
    {
     "data": {
      "text/plain": [
       "'for col in numerical_features:\\n    Q1 = df_adult[col].quantile(0.25)\\n    Q3 = df_adult[col].quantile(0.75)\\n    IQR = Q3 - Q1\\n    \\n    outlier_high = Q3 + 3 * IQR\\n    outlier_low = Q1 - 3 * IQR\\n\\n    num_outliers = int(len(df_adult) * 0.01)\\n    high_outlier_indices = np.random.choice(df_adult.index, num_outliers // 2, replace=False)\\n    low_outlier_indices = np.random.choice(df_adult.index.difference(high_outlier_indices), num_outliers // 2, replace=False)\\n\\n    df_adult.loc[high_outlier_indices, col] = outlier_high * 3\\n    df_adult.loc[low_outlier_indices, col] = outlier_low * 3'"
      ]
     },
     "execution_count": 1063,
     "metadata": {},
     "output_type": "execute_result"
    }
   ],
   "source": [
    "'''for col in numerical_features:\n",
    "    Q1 = df_adult[col].quantile(0.25)\n",
    "    Q3 = df_adult[col].quantile(0.75)\n",
    "    IQR = Q3 - Q1\n",
    "    \n",
    "    outlier_high = Q3 + 3 * IQR\n",
    "    outlier_low = Q1 - 3 * IQR\n",
    "\n",
    "    num_outliers = int(len(df_adult) * 0.01)\n",
    "    high_outlier_indices = np.random.choice(df_adult.index, num_outliers // 2, replace=False)\n",
    "    low_outlier_indices = np.random.choice(df_adult.index.difference(high_outlier_indices), num_outliers // 2, replace=False)\n",
    "\n",
    "    df_adult.loc[high_outlier_indices, col] = outlier_high * 3\n",
    "    df_adult.loc[low_outlier_indices, col] = outlier_low * 3'''"
   ]
  },
  {
   "cell_type": "code",
   "execution_count": 1064,
   "metadata": {},
   "outputs": [
    {
     "data": {
      "text/plain": [
       "\"fig, axes = plt.subplots(1, len(numerical_features), figsize=(20, 5))\\n\\nfor i, col in enumerate(numerical_features):\\n    df_adult.boxplot(column=col, ax=axes[i])\\n    axes[i].set_title(f'{col}')\\n\\nplt.tight_layout()\\nplt.show()\""
      ]
     },
     "execution_count": 1064,
     "metadata": {},
     "output_type": "execute_result"
    }
   ],
   "source": [
    "'''fig, axes = plt.subplots(1, len(numerical_features), figsize=(20, 5))\n",
    "\n",
    "for i, col in enumerate(numerical_features):\n",
    "    df_adult.boxplot(column=col, ax=axes[i])\n",
    "    axes[i].set_title(f'{col}')\n",
    "\n",
    "plt.tight_layout()\n",
    "plt.show()'''"
   ]
  },
  {
   "cell_type": "code",
   "execution_count": 1065,
   "metadata": {},
   "outputs": [
    {
     "data": {
      "text/plain": [
       "'from sklearn.base import BaseEstimator, TransformerMixin\\n\\nclass OutlierHandler(BaseEstimator, TransformerMixin):\\n    def __init__(self, method=\"iqr\", factor=1.5, return_mask=False):\\n        self.method = method\\n        self.factor = factor\\n        self.return_mask = return_mask\\n\\n    def fit(self, X, y=None):\\n        X = np.asarray(X)\\n        if self.method == \"iqr\":\\n            Q1 = np.nanpercentile(X, 25, axis=0)\\n            Q3 = np.nanpercentile(X, 75, axis=0)\\n            self.lower_bound_ = Q1 - self.factor * (Q3 - Q1)\\n            self.upper_bound_ = Q3 + self.factor * (Q3 - Q1)\\n        return self\\n\\n    def transform(self, X):\\n        X = np.asarray(X)\\n        if self.return_mask:\\n            mask = (X < self.lower_bound_) | (X > self.upper_bound_)\\n            return mask\\n        else:\\n            return X'"
      ]
     },
     "execution_count": 1065,
     "metadata": {},
     "output_type": "execute_result"
    }
   ],
   "source": [
    "'''from sklearn.base import BaseEstimator, TransformerMixin\n",
    "\n",
    "class OutlierHandler(BaseEstimator, TransformerMixin):\n",
    "    def __init__(self, method=\"iqr\", factor=1.5, return_mask=False):\n",
    "        self.method = method\n",
    "        self.factor = factor\n",
    "        self.return_mask = return_mask\n",
    "\n",
    "    def fit(self, X, y=None):\n",
    "        X = np.asarray(X)\n",
    "        if self.method == \"iqr\":\n",
    "            Q1 = np.nanpercentile(X, 25, axis=0)\n",
    "            Q3 = np.nanpercentile(X, 75, axis=0)\n",
    "            self.lower_bound_ = Q1 - self.factor * (Q3 - Q1)\n",
    "            self.upper_bound_ = Q3 + self.factor * (Q3 - Q1)\n",
    "        return self\n",
    "\n",
    "    def transform(self, X):\n",
    "        X = np.asarray(X)\n",
    "        if self.return_mask:\n",
    "            mask = (X < self.lower_bound_) | (X > self.upper_bound_)\n",
    "            return mask\n",
    "        else:\n",
    "            return X'''\n"
   ]
  },
  {
   "cell_type": "code",
   "execution_count": 1066,
   "metadata": {},
   "outputs": [
    {
     "data": {
      "text/plain": [
       "'from sklearn.base import BaseEstimator, TransformerMixin\\n\\nclass OutlierHandler(BaseEstimator, TransformerMixin):\\n    def __init__(self, method=\"iqr\", factor=1.5):\\n        self.method = method\\n        self.factor = factor\\n\\n    def fit(self, X, y=None):\\n        if self.method == \"iqr\":\\n            Q1 = np.nanpercentile(X, 25, axis=0)\\n            Q3 = np.nanpercentile(X, 75, axis=0)\\n            self.lower_bound_ = Q1 - self.factor * (Q3 - Q1)\\n            self.upper_bound_ = Q3 + self.factor * (Q3 - Q1)\\n        return self\\n\\n    def transform(self, X):\\n        X_clipped = np.clip(X, self.lower_bound_, self.upper_bound_)\\n        return X_clipped'"
      ]
     },
     "execution_count": 1066,
     "metadata": {},
     "output_type": "execute_result"
    }
   ],
   "source": [
    "'''from sklearn.base import BaseEstimator, TransformerMixin\n",
    "\n",
    "class OutlierHandler(BaseEstimator, TransformerMixin):\n",
    "    def __init__(self, method=\"iqr\", factor=1.5):\n",
    "        self.method = method\n",
    "        self.factor = factor\n",
    "\n",
    "    def fit(self, X, y=None):\n",
    "        if self.method == \"iqr\":\n",
    "            Q1 = np.nanpercentile(X, 25, axis=0)\n",
    "            Q3 = np.nanpercentile(X, 75, axis=0)\n",
    "            self.lower_bound_ = Q1 - self.factor * (Q3 - Q1)\n",
    "            self.upper_bound_ = Q3 + self.factor * (Q3 - Q1)\n",
    "        return self\n",
    "\n",
    "    def transform(self, X):\n",
    "        X_clipped = np.clip(X, self.lower_bound_, self.upper_bound_)\n",
    "        return X_clipped'''"
   ]
  },
  {
   "cell_type": "code",
   "execution_count": 1067,
   "metadata": {},
   "outputs": [],
   "source": [
    "num_pipeline = Pipeline([\n",
    "    (\"imputer\", SimpleImputer(strategy=\"mean\")),\n",
    "    #(\"outlier_handler\", OutlierHandler(method=\"iqr\", factor=1.5)),\n",
    "    (\"scaler\", StandardScaler())\n",
    "])\n",
    "\n",
    "cat_pipeline = Pipeline([\n",
    "    (\"imputer\", SimpleImputer(strategy=\"most_frequent\")),\n",
    "    (\"encoder\", OneHotEncoder(handle_unknown=\"ignore\"))\n",
    "])\n",
    "\n",
    "preprocessor = ColumnTransformer([\n",
    "    (\"num\", num_pipeline, numerical_features),\n",
    "    (\"cat\", cat_pipeline, categorical_features)\n",
    "])"
   ]
  },
  {
   "cell_type": "code",
   "execution_count": 1068,
   "metadata": {},
   "outputs": [
    {
     "data": {
      "text/plain": [
       "\"fig, axes = plt.subplots(1, len(numerical_features), figsize=(20, 5))\\n\\nfor i, col in enumerate(numerical_features):\\n    df_adult.boxplot(column=col, ax=axes[i])\\n    axes[i].set_title(f'{col}')\\n\\nplt.tight_layout()\\nplt.show()\""
      ]
     },
     "execution_count": 1068,
     "metadata": {},
     "output_type": "execute_result"
    }
   ],
   "source": [
    "'''fig, axes = plt.subplots(1, len(numerical_features), figsize=(20, 5))\n",
    "\n",
    "for i, col in enumerate(numerical_features):\n",
    "    df_adult.boxplot(column=col, ax=axes[i])\n",
    "    axes[i].set_title(f'{col}')\n",
    "\n",
    "plt.tight_layout()\n",
    "plt.show()'''"
   ]
  },
  {
   "cell_type": "markdown",
   "metadata": {},
   "source": [
    "## Model Training"
   ]
  },
  {
   "cell_type": "code",
   "execution_count": 1069,
   "metadata": {},
   "outputs": [
    {
     "data": {
      "text/plain": [
       "'df[target_variable] = df[target_variable].map({1: 1, 2: 0})\\nx_orig = df.drop(columns=target_variable)\\ny_orig = df[target_variable]\\nnumerical_transformer = Pipeline(steps=[\\n    (\\'imputer\\', SimpleImputer(strategy=\\'mean\\')),\\n    (\\'scaler\\', StandardScaler())\\n])\\n\\ncategorical_transformer = Pipeline(steps=[\\n    (\\'imputer\\', SimpleImputer(strategy=\\'most_frequent\\')),\\n    (\\'onehot\\', OneHotEncoder(handle_unknown=\\'ignore\\'))\\n])\\n\\npreprocessor = ColumnTransformer(transformers=[\\n    (\\'num\\', numerical_transformer, numerical_features),\\n    (\\'cat\\', categorical_transformer, categorical_features)\\n])\\n\\npipeline = Pipeline(steps=[\\n    (\\'preprocessor\\', preprocessor),\\n    (\\'classifier\\', LogisticRegression(max_iter=1000))\\n])\\n\\npipeline.fit(x_orig, y_orig)\\ny_pred = pipeline.predict(x_orig)\\noriginal_accuracy=accuracy_score(y_orig, y_pred)\\nprint(\"Accuracy:\", accuracy_score(y_orig, y_pred))'"
      ]
     },
     "execution_count": 1069,
     "metadata": {},
     "output_type": "execute_result"
    }
   ],
   "source": [
    "'''df[target_variable] = df[target_variable].map({1: 1, 2: 0})\n",
    "x_orig = df.drop(columns=target_variable)\n",
    "y_orig = df[target_variable]\n",
    "numerical_transformer = Pipeline(steps=[\n",
    "    ('imputer', SimpleImputer(strategy='mean')),\n",
    "    ('scaler', StandardScaler())\n",
    "])\n",
    "\n",
    "categorical_transformer = Pipeline(steps=[\n",
    "    ('imputer', SimpleImputer(strategy='most_frequent')),\n",
    "    ('onehot', OneHotEncoder(handle_unknown='ignore'))\n",
    "])\n",
    "\n",
    "preprocessor = ColumnTransformer(transformers=[\n",
    "    ('num', numerical_transformer, numerical_features),\n",
    "    ('cat', categorical_transformer, categorical_features)\n",
    "])\n",
    "\n",
    "pipeline = Pipeline(steps=[\n",
    "    ('preprocessor', preprocessor),\n",
    "    ('classifier', LogisticRegression(max_iter=1000))\n",
    "])\n",
    "\n",
    "pipeline.fit(x_orig, y_orig)\n",
    "y_pred = pipeline.predict(x_orig)\n",
    "original_accuracy=accuracy_score(y_orig, y_pred)\n",
    "print(\"Accuracy:\", accuracy_score(y_orig, y_pred))'''\n"
   ]
  },
  {
   "cell_type": "markdown",
   "metadata": {},
   "source": [
    "## Adult Dataset"
   ]
  },
  {
   "cell_type": "code",
   "execution_count": 1070,
   "metadata": {},
   "outputs": [
    {
     "name": "stdout",
     "output_type": "stream",
     "text": [
      "accuracy 0.8501581646755321\n"
     ]
    }
   ],
   "source": [
    "df.dropna(subset=[target_variable], inplace=True)\n",
    "df[target_variable] = df[target_variable].apply(lambda x: 1 if x == \" >50K\" else 0)\n",
    "\n",
    "x_orig = df.drop(columns=[target_variable])\n",
    "y_orig = df[target_variable]\n",
    "#X_train, X_test, y_train, y_test = train_test_split(x_orig, y_orig, test_size=0.2, random_state=42)\n",
    "\n",
    "X_train_transformed = preprocessor.fit_transform(x_orig)\n",
    "#X_test_transformed = preprocessor.transform(X_test)\n",
    "\n",
    "original_model = LogisticRegression(random_state=42, max_iter=500)\n",
    "original_model.fit(X_train_transformed, y_orig)\n",
    "y_pred_original = original_model.predict(X_train_transformed)\n",
    "original_accuracy = accuracy_score(y_orig, y_pred_original)\n",
    "print('accuracy', original_accuracy)"
   ]
  },
  {
   "cell_type": "code",
   "execution_count": 1071,
   "metadata": {},
   "outputs": [
    {
     "name": "stdout",
     "output_type": "stream",
     "text": [
      "Percentage of missing values in original training data: 1.63%\n",
      "Percentage of missing values in original training data: 1.63%\n"
     ]
    }
   ],
   "source": [
    "missing_percent_train = x_orig.isnull().mean().mean() * 100\n",
    "print(f\"Percentage of missing values in original training data: {missing_percent_train:.2f}%\")\n",
    "missing_percent_train = x_orig.isnull().mean().mean() * 100\n",
    "print(f\"Percentage of missing values in original training data: {missing_percent_train:.2f}%\")"
   ]
  },
  {
   "cell_type": "markdown",
   "metadata": {},
   "source": [
    "## Generate Missing Values"
   ]
  },
  {
   "cell_type": "code",
   "execution_count": 1072,
   "metadata": {},
   "outputs": [],
   "source": [
    "def generate_missing_value_shift(X, missing_ratio):\n",
    "    X_shifted = X.copy()\n",
    "    for col in numerical_features:\n",
    "        missing_indices = np.random.choice(X_shifted.index, int(len(X_shifted) * missing_ratio), replace=False)\n",
    "        X_shifted.loc[missing_indices, col] = np.nan\n",
    "    return X_shifted"
   ]
  },
  {
   "cell_type": "markdown",
   "metadata": {},
   "source": [
    "## VS for Missing Value Injection"
   ]
  },
  {
   "cell_type": "code",
   "execution_count": 1073,
   "metadata": {},
   "outputs": [
    {
     "name": "stdout",
     "output_type": "stream",
     "text": [
      "Vulnerability Score Matrix:\n",
      "            Imputation  Standardization\n",
      "Dataset 1     0.000000         0.000000\n",
      "Dataset 2     0.298171         0.000987\n",
      "Dataset 3     0.751667         0.001918\n",
      "Dataset 4     1.431533         0.003104\n",
      "Dataset 5     1.775878         0.004044\n",
      "Dataset 6     1.853357         0.005093\n",
      "Dataset 7     2.861640         0.006028\n",
      "Dataset 8     3.034338         0.007009\n",
      "Dataset 9     3.580945         0.008101\n",
      "Dataset 10    4.256666         0.009027\n",
      "Dataset 11    3.734001         0.009687\n",
      "Dataset 12    5.569059         0.010894\n",
      "Dataset 13    5.776116         0.011475\n",
      "Dataset 14    6.691632         0.013095\n",
      "Dataset 15    6.085351         0.014152\n",
      "Dataset 16    6.404060         0.015133\n",
      "Dataset 17    6.372561         0.015897\n",
      "Dataset 18    8.030949         0.017032\n",
      "Dataset 19    7.671072         0.017662\n",
      "Dataset 20    7.610800         0.018711\n",
      "Dataset 21    8.452714         0.019548\n"
     ]
    }
   ],
   "source": [
    "n_shifts = 21\n",
    "missing_ratios = np.linspace(0, 0.1, n_shifts)\n",
    "drifted_datasets = [generate_missing_value_shift(x_orig, ratio) for ratio in missing_ratios]\n",
    "imputation_strategies = [\"mean\"]#, \"median\", \"most_frequent\"]\n",
    "def compute_vulnerability_score_MV(original_data, drifted_data, preprocessor, numerical_features, strategy):\n",
    "    imputer = SimpleImputer(strategy=strategy)\n",
    "    #num_pipeline = dict(preprocessor.named_transformers_)[\"num\"]\n",
    "    #imputer = num_pipeline.named_steps[\"imputer\"]\n",
    "    scaler = num_pipeline.named_steps[\"scaler\"]\n",
    "    \n",
    "    original_imputed = imputer.fit_transform(original_data[numerical_features])\n",
    "    drifted_imputed = imputer.fit_transform(drifted_data[numerical_features])\n",
    "\n",
    "    kl_divergences = [\n",
    "        entropy(original_imputed[:, i], drifted_imputed[:, i]) if np.all(drifted_imputed[:, i] > 0) else 0\n",
    "        for i in range(len(numerical_features))\n",
    "    ]\n",
    "\n",
    "    sensitivity = np.mean(np.abs(original_imputed - drifted_imputed))\n",
    "    \n",
    "    lambda_1, lambda_2 = 0.2, 1\n",
    "    vulnerability_score_imputation = (\n",
    "        lambda_1 * sensitivity +\n",
    "        lambda_2 * np.mean(kl_divergences)\n",
    "    )\n",
    "    \n",
    "    original_scaled = scaler.fit_transform(original_imputed)\n",
    "    drifted_scaled = scaler.fit_transform(drifted_imputed)\n",
    "    standardization_sensitivity = np.mean(np.abs(original_scaled - drifted_scaled))\n",
    "    vulnerability_score_standardization = (\n",
    "        lambda_1 * standardization_sensitivity +\n",
    "        lambda_2 * np.mean(kl_divergences)\n",
    "    )\n",
    "    \n",
    "    return [vulnerability_score_imputation, vulnerability_score_standardization]\n",
    "\n",
    "vulnerability_matrix = [compute_vulnerability_score_MV(x_orig, drifted, preprocessor, numerical_features, strategy='mean') for drifted in drifted_datasets]\n",
    "\n",
    "drift_labels = [f\"Dataset {i+1}\" for i in range(n_shifts)]\n",
    "component_columns = [\"Imputation\", \"Standardization\"]\n",
    "vulnerability_df = pd.DataFrame(vulnerability_matrix, columns=component_columns, index=drift_labels)\n",
    "\n",
    "print(\"Vulnerability Score Matrix:\")\n",
    "print(vulnerability_df)"
   ]
  },
  {
   "cell_type": "code",
   "execution_count": 1074,
   "metadata": {},
   "outputs": [
    {
     "name": "stdout",
     "output_type": "stream",
     "text": [
      "Vulnerability Score Matrix for mean Imputation:\n",
      "                    Imputation  Standardization\n",
      "Dataset 1 : 1.0%      0.000000         0.000000\n",
      "Dataset 2 : 2.0%      0.298171         0.000987\n",
      "Dataset 3 : 3.0%      0.751667         0.001918\n",
      "Dataset 4 : 4.0%      1.431533         0.003104\n",
      "Dataset 5 : 5.0%      1.775878         0.004044\n",
      "Dataset 6 : 6.0%      1.853357         0.005093\n",
      "Dataset 7 : 7.0%      2.861640         0.006028\n",
      "Dataset 8 : 8.0%      3.034338         0.007009\n",
      "Dataset 9 : 9.0%      3.580945         0.008101\n",
      "Dataset 10 : 10.0%    4.256666         0.009027\n",
      "Dataset 11 : 11.0%    3.734001         0.009687\n",
      "Dataset 12 : 12.0%    5.569059         0.010894\n",
      "Dataset 13 : 13.0%    5.776116         0.011475\n",
      "Dataset 14 : 14.0%    6.691632         0.013095\n",
      "Dataset 15 : 15.0%    6.085351         0.014152\n",
      "Dataset 16 : 16.0%    6.404060         0.015133\n",
      "Dataset 17 : 17.0%    6.372561         0.015897\n",
      "Dataset 18 : 18.0%    8.030949         0.017032\n",
      "Dataset 19 : 19.0%    7.671072         0.017662\n",
      "Dataset 20 : 20.0%    7.610800         0.018711\n",
      "Dataset 21 : 21.0%    8.452714         0.019548\n",
      "Accuracy Results for mean Imputation:\n",
      "               Dataset  Accuracy\n",
      "0             Original  0.850158\n",
      "1     Dataset 1 : 1.0%  0.813980\n",
      "2     Dataset 2 : 2.0%  0.813550\n",
      "3     Dataset 3 : 3.0%  0.813918\n",
      "4     Dataset 4 : 4.0%  0.813243\n",
      "5     Dataset 5 : 5.0%  0.812659\n",
      "6     Dataset 6 : 6.0%  0.812536\n",
      "7     Dataset 7 : 7.0%  0.812444\n",
      "8     Dataset 8 : 8.0%  0.812260\n",
      "9     Dataset 9 : 9.0%  0.813212\n",
      "10  Dataset 10 : 10.0%  0.811339\n",
      "11  Dataset 11 : 11.0%  0.811615\n",
      "12  Dataset 12 : 12.0%  0.812260\n",
      "13  Dataset 13 : 13.0%  0.811492\n",
      "14  Dataset 14 : 14.0%  0.810663\n",
      "15  Dataset 15 : 15.0%  0.810540\n",
      "16  Dataset 16 : 16.0%  0.810448\n",
      "17  Dataset 17 : 17.0%  0.810724\n",
      "18  Dataset 18 : 18.0%  0.808759\n",
      "19  Dataset 19 : 19.0%  0.810356\n",
      "20  Dataset 20 : 20.0%  0.808790\n",
      "21  Dataset 21 : 21.0%  0.808237\n"
     ]
    }
   ],
   "source": [
    "VS_score=[]\n",
    "acc_score=[]\n",
    "vulnerability_results = {}\n",
    "accuracy_results = {}\n",
    "for strategy in imputation_strategies:\n",
    "    vulnerability_matrix = []\n",
    "    accuracy_list = [original_accuracy]\n",
    "    for drifted in drifted_datasets:\n",
    "        scores = compute_vulnerability_score_MV(x_orig, drifted, preprocessor, numerical_features, strategy)\n",
    "        vulnerability_matrix.append(scores)\n",
    "        VS_score.append(scores[0])\n",
    "        imputer = SimpleImputer(strategy=strategy)\n",
    "        X_train_imputed = imputer.fit_transform(drifted[numerical_features])\n",
    "        #X_test_imputed = imputer.transform(drifted[numerical_features])\n",
    "        \n",
    "        model = LogisticRegression(random_state=42, max_iter=500)\n",
    "        model.fit(X_train_imputed, y_orig)\n",
    "        y_pred = model.predict(X_train_imputed)\n",
    "        accuracy_list.append(accuracy_score(y_orig, y_pred))\n",
    "        acc_score.append(accuracy_score(y_orig, y_pred))\n",
    "    \n",
    "    drift_labels = [\"Original\"] + [f\"Dataset {i+1} : {(.01*(i+1))*100:.1f}%\" for i in range(n_shifts)]\n",
    "    component_columns = [\"Imputation\", \"Standardization\"]\n",
    "    vulnerability_results[strategy] = pd.DataFrame(vulnerability_matrix, columns=component_columns, index=drift_labels[1:])\n",
    "    accuracy_results[strategy] = pd.DataFrame({\"Dataset\": drift_labels, \"Accuracy\": accuracy_list})\n",
    "\n",
    "for strategy, df in vulnerability_results.items():\n",
    "    print(f\"Vulnerability Score Matrix for {strategy} Imputation:\")\n",
    "    print(df)\n",
    "    print(f\"Accuracy Results for {strategy} Imputation:\")\n",
    "    print(accuracy_results[strategy])"
   ]
  },
  {
   "cell_type": "markdown",
   "metadata": {},
   "source": [
    "## VS for outlier Handling"
   ]
  },
  {
   "cell_type": "markdown",
   "metadata": {},
   "source": [
    "## Generate Outlier"
   ]
  },
  {
   "cell_type": "code",
   "execution_count": 1075,
   "metadata": {},
   "outputs": [
    {
     "data": {
      "text/plain": [
       "'def generate_outlier_shift(X, outlier_ratio, factor=1.5):\\n\\n    X_shifted = X.copy()\\n    for col in numerical_features:\\n        Q1 = X[col].quantile(0.25)\\n        Q3 = X[col].quantile(0.75)\\n        IQR = Q3 - Q1\\n        high_outlier_value = Q3 + factor * IQR\\n        low_outlier_value = Q1 - factor * IQR\\n\\n        num_outliers = int(len(X_shifted) * outlier_ratio)\\n        high_indices = np.random.choice(X_shifted.index, num_outliers // 2, replace=False)\\n        low_indices = np.random.choice(X_shifted.index.difference(high_indices), num_outliers // 2, replace=False)\\n\\n        X_shifted.loc[high_indices, col] = high_outlier_value * factor\\n        X_shifted.loc[low_indices, col] = low_outlier_value * factor\\n\\n    return X_shifted'"
      ]
     },
     "execution_count": 1075,
     "metadata": {},
     "output_type": "execute_result"
    }
   ],
   "source": [
    "'''def generate_outlier_shift(X, outlier_ratio, factor=1.5):\n",
    "\n",
    "    X_shifted = X.copy()\n",
    "    for col in numerical_features:\n",
    "        Q1 = X[col].quantile(0.25)\n",
    "        Q3 = X[col].quantile(0.75)\n",
    "        IQR = Q3 - Q1\n",
    "        high_outlier_value = Q3 + factor * IQR\n",
    "        low_outlier_value = Q1 - factor * IQR\n",
    "\n",
    "        num_outliers = int(len(X_shifted) * outlier_ratio)\n",
    "        high_indices = np.random.choice(X_shifted.index, num_outliers // 2, replace=False)\n",
    "        low_indices = np.random.choice(X_shifted.index.difference(high_indices), num_outliers // 2, replace=False)\n",
    "\n",
    "        X_shifted.loc[high_indices, col] = high_outlier_value * factor\n",
    "        X_shifted.loc[low_indices, col] = low_outlier_value * factor\n",
    "\n",
    "    return X_shifted'''"
   ]
  },
  {
   "cell_type": "code",
   "execution_count": 1076,
   "metadata": {},
   "outputs": [
    {
     "data": {
      "text/plain": [
       "'n_shifts = 6\\noutlier_ratios = np.linspace(0, 0.3, n_shifts)\\ndrifted_datasets = [generate_outlier_shift(x_orig, ratio, factor=1.5) for ratio in outlier_ratios]\\n\\ndef compute_vulnerability_score_outlier_handling(original_data, drifted_data, preprocessor, numerical_features):\\n\\n    num_pipeline = dict(preprocessor.named_transformers_)[\"num\"]\\n\\n    outlier_handler = num_pipeline.named_steps[\"outlier_handler\"]\\n    scaler = num_pipeline.named_steps[\"scaler\"]\\n\\n    original_values = original_data[numerical_features].values\\n    drifted_values = drifted_data[numerical_features].values\\n    \\n    original_outlier_handled = outlier_handler.fit_transform(original_values)\\n    drifted_outlier_handled = outlier_handler.fit_transform(drifted_values)\\n    print(drifted_outlier_handled)\\n\\n    kl_divergences = [\\n        entropy(original_outlier_handled[:, i], drifted_outlier_handled[:, i])\\n        if np.all(drifted_outlier_handled[:, i] > 0) and np.all(original_outlier_handled[:, i] > 0) else 0\\n        for i in range(original_outlier_handled.shape[1])\\n    ]\\n    sensitivity = np.mean(np.abs(original_outlier_handled - drifted_outlier_handled))\\n    lambda_1, lambda_2 = .2, 1\\n    vulnerability_score_outlier = (lambda_1 * sensitivity +\\n                                lambda_2 * np.mean(kl_divergences))\\n\\n    original_scaled = scaler.transform(original_outlier_handled)\\n    drifted_scaled = scaler.transform(drifted_outlier_handled)\\n\\n    standardization_sensitivity = np.mean(np.abs(original_scaled - drifted_scaled))\\n    vulnerability_score_standardization = lambda_1 * standardization_sensitivity + lambda_2 * np.mean(kl_divergences)\\n\\n    return [vulnerability_score_outlier, vulnerability_score_standardization]\\n\\nvulnerability_matrix = [compute_vulnerability_score_outlier_handling(x_orig, drifted, preprocessor, numerical_features) for drifted in drifted_datasets]\\n\\ndrift_labels = [f\"Dataset {i+1}\" for i in range(n_shifts)]\\ncomponent_columns = [\"Imputation\", \"Standardization\"]\\nvulnerability_df = pd.DataFrame(vulnerability_matrix, columns=component_columns, index=drift_labels)\\n\\nprint(\"Vulnerability Score Matrix:\")\\nprint(vulnerability_df)'"
      ]
     },
     "execution_count": 1076,
     "metadata": {},
     "output_type": "execute_result"
    }
   ],
   "source": [
    "'''n_shifts = 6\n",
    "outlier_ratios = np.linspace(0, 0.3, n_shifts)\n",
    "drifted_datasets = [generate_outlier_shift(x_orig, ratio, factor=1.5) for ratio in outlier_ratios]\n",
    "\n",
    "def compute_vulnerability_score_outlier_handling(original_data, drifted_data, preprocessor, numerical_features):\n",
    "\n",
    "    num_pipeline = dict(preprocessor.named_transformers_)[\"num\"]\n",
    "\n",
    "    outlier_handler = num_pipeline.named_steps[\"outlier_handler\"]\n",
    "    scaler = num_pipeline.named_steps[\"scaler\"]\n",
    "\n",
    "    original_values = original_data[numerical_features].values\n",
    "    drifted_values = drifted_data[numerical_features].values\n",
    "    \n",
    "    original_outlier_handled = outlier_handler.fit_transform(original_values)\n",
    "    drifted_outlier_handled = outlier_handler.fit_transform(drifted_values)\n",
    "    print(drifted_outlier_handled)\n",
    "\n",
    "    kl_divergences = [\n",
    "        entropy(original_outlier_handled[:, i], drifted_outlier_handled[:, i])\n",
    "        if np.all(drifted_outlier_handled[:, i] > 0) and np.all(original_outlier_handled[:, i] > 0) else 0\n",
    "        for i in range(original_outlier_handled.shape[1])\n",
    "    ]\n",
    "    sensitivity = np.mean(np.abs(original_outlier_handled - drifted_outlier_handled))\n",
    "    lambda_1, lambda_2 = .2, 1\n",
    "    vulnerability_score_outlier = (lambda_1 * sensitivity +\n",
    "                                lambda_2 * np.mean(kl_divergences))\n",
    "\n",
    "    original_scaled = scaler.transform(original_outlier_handled)\n",
    "    drifted_scaled = scaler.transform(drifted_outlier_handled)\n",
    "\n",
    "    standardization_sensitivity = np.mean(np.abs(original_scaled - drifted_scaled))\n",
    "    vulnerability_score_standardization = lambda_1 * standardization_sensitivity + lambda_2 * np.mean(kl_divergences)\n",
    "\n",
    "    return [vulnerability_score_outlier, vulnerability_score_standardization]\n",
    "\n",
    "vulnerability_matrix = [compute_vulnerability_score_outlier_handling(x_orig, drifted, preprocessor, numerical_features) for drifted in drifted_datasets]\n",
    "\n",
    "drift_labels = [f\"Dataset {i+1}\" for i in range(n_shifts)]\n",
    "component_columns = [\"Imputation\", \"Standardization\"]\n",
    "vulnerability_df = pd.DataFrame(vulnerability_matrix, columns=component_columns, index=drift_labels)\n",
    "\n",
    "print(\"Vulnerability Score Matrix:\")\n",
    "print(vulnerability_df)'''"
   ]
  },
  {
   "cell_type": "code",
   "execution_count": 1077,
   "metadata": {},
   "outputs": [
    {
     "data": {
      "text/plain": [
       "'VS_score = []\\nacc_score = []\\nvulnerability_matrix = []\\naccuracy_list = [original_accuracy]\\ndrift_labels = [\"Original\"] + [f\"Dataset {i+1} : {(outlier_ratios[i]) * 100:.1f}%\" for i in range(n_shifts)]\\n\\nfor drifted in drifted_datasets:\\n    scores = compute_vulnerability_score_outlier_handling(x_orig, drifted, preprocessor, numerical_features)\\n    vulnerability_matrix.append(scores)\\n    VS_score.append(scores[0])\\n\\n    num_pipeline = dict(preprocessor.named_transformers_)[\"num\"]\\n    outlier_handler = num_pipeline.named_steps[\"outlier_handler\"]\\n    \\n    X_train_processed = outlier_handler.transform(drifted[numerical_features])\\n    #X_test_processed = outlier_handler.transform(drifted[numerical_features])\\n    \\n    model = LogisticRegression(random_state=42, max_iter=500)\\n    model.fit(X_train_processed, y_orig)\\n    y_pred = model.predict(X_train_processed)\\n\\n    acc = accuracy_score(y_orig, y_pred)\\n    accuracy_list.append(acc)\\n    acc_score.append(acc)\\n\\ncomponent_columns = [\"OutlierHandling\", \"Standardization\"]\\nvulnerability_results = pd.DataFrame(vulnerability_matrix, columns=component_columns, index=drift_labels[1:])\\naccuracy_results = pd.DataFrame({\"Dataset\": drift_labels, \"Accuracy\": accuracy_list})\\n\\nprint(\"\\n Vulnerability Score Matrix (Outlier Handling Only):\")\\nprint(vulnerability_results)\\n\\nprint(\"\\n Accuracy Results:\")\\nprint(accuracy_results)'"
      ]
     },
     "execution_count": 1077,
     "metadata": {},
     "output_type": "execute_result"
    }
   ],
   "source": [
    "'''VS_score = []\n",
    "acc_score = []\n",
    "vulnerability_matrix = []\n",
    "accuracy_list = [original_accuracy]\n",
    "drift_labels = [\"Original\"] + [f\"Dataset {i+1} : {(outlier_ratios[i]) * 100:.1f}%\" for i in range(n_shifts)]\n",
    "\n",
    "for drifted in drifted_datasets:\n",
    "    scores = compute_vulnerability_score_outlier_handling(x_orig, drifted, preprocessor, numerical_features)\n",
    "    vulnerability_matrix.append(scores)\n",
    "    VS_score.append(scores[0])\n",
    "\n",
    "    num_pipeline = dict(preprocessor.named_transformers_)[\"num\"]\n",
    "    outlier_handler = num_pipeline.named_steps[\"outlier_handler\"]\n",
    "    \n",
    "    X_train_processed = outlier_handler.transform(drifted[numerical_features])\n",
    "    #X_test_processed = outlier_handler.transform(drifted[numerical_features])\n",
    "    \n",
    "    model = LogisticRegression(random_state=42, max_iter=500)\n",
    "    model.fit(X_train_processed, y_orig)\n",
    "    y_pred = model.predict(X_train_processed)\n",
    "\n",
    "    acc = accuracy_score(y_orig, y_pred)\n",
    "    accuracy_list.append(acc)\n",
    "    acc_score.append(acc)\n",
    "\n",
    "component_columns = [\"OutlierHandling\", \"Standardization\"]\n",
    "vulnerability_results = pd.DataFrame(vulnerability_matrix, columns=component_columns, index=drift_labels[1:])\n",
    "accuracy_results = pd.DataFrame({\"Dataset\": drift_labels, \"Accuracy\": accuracy_list})\n",
    "\n",
    "print(\"\\n Vulnerability Score Matrix (Outlier Handling Only):\")\n",
    "print(vulnerability_results)\n",
    "\n",
    "print(\"\\n Accuracy Results:\")\n",
    "print(accuracy_results)'''"
   ]
  },
  {
   "cell_type": "code",
   "execution_count": 1078,
   "metadata": {},
   "outputs": [
    {
     "data": {
      "text/plain": [
       "[0.8139799146217868,\n",
       " 0.8135499523970394,\n",
       " 0.8139184914468229,\n",
       " 0.8132428365222198,\n",
       " 0.8126593163600626,\n",
       " 0.8125364700101348,\n",
       " 0.812444335247689,\n",
       " 0.8122600657227972,\n",
       " 0.8132121249347378,\n",
       " 0.8113387180983385,\n",
       " 0.8116151223856761,\n",
       " 0.8122600657227972,\n",
       " 0.8114922760357483,\n",
       " 0.8106630631737355,\n",
       " 0.8105402168238076,\n",
       " 0.8104480820613618,\n",
       " 0.8107244863486993,\n",
       " 0.8087589447498541,\n",
       " 0.8103559472989159,\n",
       " 0.8087896563373361,\n",
       " 0.8082368477626608]"
      ]
     },
     "execution_count": 1078,
     "metadata": {},
     "output_type": "execute_result"
    }
   ],
   "source": [
    "acc_score"
   ]
  },
  {
   "cell_type": "markdown",
   "metadata": {},
   "source": [
    "## Check Accuracy"
   ]
  },
  {
   "cell_type": "code",
   "execution_count": 1079,
   "metadata": {},
   "outputs": [
    {
     "data": {
      "text/plain": [
       "'accuracy_scores = []\\nfor drifted_X in drifted_datasets:\\n    drifted_X_transformed = preprocessor.transform(drifted_X)\\n    model = LogisticRegression(random_state=42, max_iter=500)\\n    model.fit(X_train_transformed, y_train)\\n    y_pred = model.predict(drifted_X_transformed)\\n    acc = accuracy_score(y_test, y_pred)\\n    accuracy_scores.append(acc)\\n\\naccuracy_df = pd.DataFrame({\"Missing Ratio\": missing_ratios, \"Accuracy\": accuracy_scores})\\nprint(\"Accuracy Report:\")\\nprint(accuracy_df)\\nprint(f\"Original Model Accuracy: {original_accuracy}\")'"
      ]
     },
     "execution_count": 1079,
     "metadata": {},
     "output_type": "execute_result"
    }
   ],
   "source": [
    "'''accuracy_scores = []\n",
    "for drifted_X in drifted_datasets:\n",
    "    drifted_X_transformed = preprocessor.transform(drifted_X)\n",
    "    model = LogisticRegression(random_state=42, max_iter=500)\n",
    "    model.fit(X_train_transformed, y_train)\n",
    "    y_pred = model.predict(drifted_X_transformed)\n",
    "    acc = accuracy_score(y_test, y_pred)\n",
    "    accuracy_scores.append(acc)\n",
    "\n",
    "accuracy_df = pd.DataFrame({\"Missing Ratio\": missing_ratios, \"Accuracy\": accuracy_scores})\n",
    "print(\"Accuracy Report:\")\n",
    "print(accuracy_df)\n",
    "print(f\"Original Model Accuracy: {original_accuracy}\")'''"
   ]
  },
  {
   "cell_type": "code",
   "execution_count": 1080,
   "metadata": {},
   "outputs": [
    {
     "data": {
      "text/plain": [
       "[0.0,\n",
       " 0.2981708875637026,\n",
       " 0.7516665742450935,\n",
       " 1.4315331735571604,\n",
       " 1.7758777335996627,\n",
       " 1.85335682758486,\n",
       " 2.86164039062108,\n",
       " 3.0343380043239065,\n",
       " 3.5809454955358797,\n",
       " 4.256666332427559,\n",
       " 3.7340007716489003,\n",
       " 5.569058710212718,\n",
       " 5.776116092818627,\n",
       " 6.691632021489617,\n",
       " 6.085351329665731,\n",
       " 6.404059574078402,\n",
       " 6.372560874836955,\n",
       " 8.030949047791836,\n",
       " 7.671071684025954,\n",
       " 7.610799656614671,\n",
       " 8.452713587240368]"
      ]
     },
     "execution_count": 1080,
     "metadata": {},
     "output_type": "execute_result"
    }
   ],
   "source": [
    "VS_score"
   ]
  },
  {
   "cell_type": "code",
   "execution_count": 1081,
   "metadata": {},
   "outputs": [],
   "source": [
    "missing_ratios_g = np.arange(0, n_shifts)"
   ]
  },
  {
   "cell_type": "code",
   "execution_count": 1082,
   "metadata": {},
   "outputs": [
    {
     "data": {
      "text/plain": [
       "array([ 0,  1,  2,  3,  4,  5,  6,  7,  8,  9, 10, 11, 12, 13, 14, 15, 16,\n",
       "       17, 18, 19, 20])"
      ]
     },
     "execution_count": 1082,
     "metadata": {},
     "output_type": "execute_result"
    }
   ],
   "source": [
    "missing_ratios_g\n"
   ]
  },
  {
   "cell_type": "code",
   "execution_count": 1083,
   "metadata": {},
   "outputs": [],
   "source": [
    "VS_gradient= np.gradient(VS_score, missing_ratios_g)"
   ]
  },
  {
   "cell_type": "code",
   "execution_count": 1084,
   "metadata": {},
   "outputs": [],
   "source": [
    "VS_gradient_2=np.gradient(VS_gradient, missing_ratios_g)"
   ]
  },
  {
   "cell_type": "code",
   "execution_count": 1085,
   "metadata": {},
   "outputs": [],
   "source": [
    "import os"
   ]
  },
  {
   "cell_type": "code",
   "execution_count": null,
   "metadata": {},
   "outputs": [
    {
     "data": {
      "text/plain": [
       "<Figure size 1000x800 with 0 Axes>"
      ]
     },
     "metadata": {},
     "output_type": "display_data"
    },
    {
     "data": {
      "image/png": "[encoded data removed]",
      "text/plain": [
       "<Figure size 1000x800 with 1 Axes>"
      ]
     },
     "metadata": {},
     "output_type": "display_data"
    }
   ],
   "source": [
    "folder_path = '/Users/hasan89/Documents/PipeLine/adult'\n",
    "file_name = 'German_OI.pdf'\n",
    "os.makedirs(folder_path, exist_ok=True)\n",
    "file_path = os.path.join(folder_path, file_name)\n",
    "plt.figure(figsize=(10, 8))\n",
    "\n",
    "plt.figure(figsize=(10, 8))\n",
    "plt.plot(missing_ratios_g, VS_score, 'o-', label='$VS$', markersize=15, linewidth=3)\n",
    "plt.plot(missing_ratios_g, VS_gradient, 's--', label=r'$\\frac{d\\,VS}{d\\,\\rho}$', markersize=15, linewidth=3)\n",
    "\n",
    "plt.axhline(y=0, color='gray', linestyle='--', linewidth=1)\n",
    "plt.axvline(x=5, color='r', linestyle='--', linewidth=1)\n",
    "\n",
    "plt.xlabel(r'Noise level $\\rho$ (%)', fontsize=30)\n",
    "plt.ylabel('Score', fontsize=30)\n",
    "\n",
    "xticks_to_show = missing_ratios_g[::2]\n",
    "plt.xticks(xticks_to_show, fontsize=33)\n",
    "\n",
    "plt.yticks(fontsize=33)\n",
    "plt.legend(fontsize=30)\n",
    "plt.tight_layout()\n",
    "#plt.savefig(file_path, format='pdf', dpi=600)\n",
    "plt.show()"
   ]
  },
  {
   "cell_type": "code",
   "execution_count": null,
   "metadata": {},
   "outputs": [
    {
     "data": {
      "application/vnd.jupyter.widget-view+json": {
       "model_id": "b69421dd9e6c43a6a9a41bf8544793b5",
       "version_major": 2,
       "version_minor": 0
      },
      "text/plain": [
       "  0%|          | 0/100 [00:00<?, ?it/s]"
      ]
     },
     "metadata": {},
     "output_type": "display_data"
    },
    {
     "data": {
      "application/vnd.jupyter.widget-view+json": {
       "model_id": "904e6a777bb44efd807c8178033f2055",
       "version_major": 2,
       "version_minor": 0
      },
      "text/plain": [
       "  0%|          | 0/100 [00:00<?, ?it/s]"
      ]
     },
     "metadata": {},
     "output_type": "display_data"
    },
    {
     "data": {
      "application/vnd.jupyter.widget-view+json": {
       "model_id": "1d221d677a064dfb9351f480b5fca3b7",
       "version_major": 2,
       "version_minor": 0
      },
      "text/plain": [
       "  0%|          | 0/100 [00:00<?, ?it/s]"
      ]
     },
     "metadata": {},
     "output_type": "display_data"
    },
    {
     "name": "stdout",
     "output_type": "stream",
     "text": [
      "SHAP-Based Importance of Preprocessing Components:\n",
      "    Preprocessing Component  SHAP-Based Importance\n",
      "0  Missing Value Imputation               0.005441\n",
      "1                   Scaling               0.000065\n"
     ]
    },
    {
     "data": {
      "image/png": "[encoded data removed]",
      "text/plain": [
       "<Figure size 800x500 with 1 Axes>"
      ]
     },
     "metadata": {},
     "output_type": "display_data"
    }
   ],
   "source": [
    "import shap\n",
    "\n",
    "def compute_shap_importance(X_train, X_test, y_train, y_test, preprocessing_step):\n",
    "    model = LogisticRegression(random_state=42, max_iter=500)\n",
    "    model.fit(X_train, y_train)\n",
    "    explainer = shap.KernelExplainer(model.predict, X_train[:100])\n",
    "    shap_values = explainer.shap_values(X_test[:100]\n",
    "    shap_importance = np.mean(np.abs(shap_values))\n",
    "    return shap_importance\n",
    "\n",
    "X_train_no_prep, X_test_no_prep = X_train[numerical_features].fillna(0), X_test[numerical_features].fillna(0)\n",
    "baseline_shap = compute_shap_importance(X_train_no_prep, X_test_no_prep, y_train, y_test, \"No Preprocessing\")\n",
    "\n",
    "imputer = SimpleImputer(strategy=\"mean\")\n",
    "X_train_imputed = imputer.fit_transform(X_train[numerical_features])\n",
    "X_test_imputed = imputer.transform(X_test[numerical_features])\n",
    "imputation_shap = compute_shap_importance(X_train_imputed, X_test_imputed, y_train, y_test, \"Imputation Only\")\n",
    "\n",
    "scaler = StandardScaler()\n",
    "X_train_scaled = scaler.fit_transform(X_train_imputed)\n",
    "X_test_scaled = scaler.transform(X_test_imputed)\n",
    "full_pipeline_shap = compute_shap_importance(X_train_scaled, X_test_scaled, y_train, y_test, \"Imputation + Scaling\")\n",
    "\n",
    "\n",
    "imputation_importance_shap = imputation_shap - baseline_shap\n",
    "scaling_importance_shap = full_pipeline_shap - imputation_shap\n",
    "\n",
    "\n",
    "shap_importance_df = pd.DataFrame({\n",
    "    \"Preprocessing Component\": [\"Missing Value Imputation\", \"Scaling\"],\n",
    "    \"SHAP-Based Importance\": [imputation_importance_shap, scaling_importance_shap]\n",
    "})\n",
    "\n",
    "\n",
    "print(\"SHAP-Based Importance of Preprocessing Components:\")\n",
    "print(shap_importance_df)\n",
    "\n",
    "plt.figure(figsize=(8, 5))\n",
    "plt.bar(shap_importance_df[\"Preprocessing Component\"], shap_importance_df[\"SHAP-Based Importance\"], color=['blue', 'green'])\n",
    "plt.xlabel(\"Preprocessing Component\")\n",
    "plt.ylabel(\"SHAP-Based Importance\")\n",
    "plt.title(\"SHAP Analysis of Preprocessing Components\")\n",
    "plt.ylim(0, max(shap_importance_df[\"SHAP-Based Importance\"]) * 1.2)\n",
    "plt.grid(axis='y', linestyle='--', alpha=0.7)\n",
    "plt.show()\n"
   ]
  }
 ],
 "metadata": {
  "kernelspec": {
   "display_name": "base",
   "language": "python",
   "name": "python3"
  },
  "language_info": {
   "codemirror_mode": {
    "name": "ipython",
    "version": 3
   },
   "file_extension": ".py",
   "mimetype": "text/x-python",
   "name": "python",
   "nbconvert_exporter": "python",
   "pygments_lexer": "ipython3",
   "version": "3.11.5"
  }
 },
 "nbformat": 4,
 "nbformat_minor": 2
}
